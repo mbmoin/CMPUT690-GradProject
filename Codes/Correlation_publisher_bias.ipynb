{
  "cells": [
    {
      "cell_type": "markdown",
      "metadata": {
        "id": "rRjkdEaeQ3ai"
      },
      "source": [
        "#### In this notebook we analyze the correlation of publisher bias and article bias"
      ]
    },
    {
      "cell_type": "code",
      "execution_count": null,
      "metadata": {
        "collapsed": true,
        "id": "rRqmxUbiQ3au"
      },
      "outputs": [],
      "source": [
        "import xml.sax\n",
        "import collections\n",
        "import matplotlib.pyplot as plt\n",
        "import numpy as np\n",
        "from utils import fixedTestSplit\n",
        "\n",
        "class GroundTruthHandler(xml.sax.ContentHandler):\n",
        "    def __init__(self, label, sources, urls):\n",
        "        xml.sax.ContentHandler.__init__(self)\n",
        "        self.urls = urls\n",
        "        self.label = label\n",
        "        self.sources = sources\n",
        "\n",
        "    def startElement(self, name, attrs):\n",
        "        if name == \"article\":\n",
        "            articleId = attrs.getValue(\"id\")\n",
        "            hyperpartisan = attrs.getValue(\"hyperpartisan\")\n",
        "            self.label.append(hyperpartisan)\n",
        "            \n",
        "            url = attrs.getValue(\"url\")\n",
        "            # parse url\n",
        "            url = '/'.join(url.split('/')[:3])\n",
        "            \n",
        "            self.sources.append(url)\n",
        "            if url in self.urls.keys():\n",
        "                self.urls[url].append(hyperpartisan)\n",
        "            else:\n",
        "                self.urls[url] = [hyperpartisan]\n",
        "                \n",
        "                \n",
        "def readFiles(labelFile):\n",
        "    y, sources = [], []\n",
        "    urls = {}\n",
        "    with open(labelFile) as labelFile:\n",
        "        xml.sax.parse(labelFile, GroundTruthHandler(y, sources, urls))\n",
        "             \n",
        "    return np.asarray(y), np.asarray(sources), urls\n",
        "                \n",
        "def count(label):\n",
        "    return collections.Counter(label)"
      ]
    },
    {
      "cell_type": "code",
      "execution_count": null,
      "metadata": {
        "collapsed": true,
        "id": "BTK86RaZQ3ay"
      },
      "outputs": [],
      "source": [
        "# manually check the leaning of the publisher through https://mediabiasfactcheck.com/\n",
        "bias2Url = {\n",
        "    'EL':['http://www.trueactivist.com',],\n",
        "    'L':[\"https://www.salon.com\", 'http://www.gq.com', 'https://www.rawstory.com', 'https://www.opednews.com', 'http://people.com'],\n",
        "    'LC':['http://www.cbsnews.com', 'http://heavy.com', 'http://www.nytimes.com', 'http://www.rollingstone.com'],\n",
        "    'C': ['http://www.snopes.com', 'http://www.nfl.com'],\n",
        "    'RC':['http://nypost.com', 'https://www.realclearpolitics.com', 'https://www.circa.com'],\n",
        "    'R':['https://pjmedia.com', 'http://www.express.co.uk','http://opslens.com','http://insider.foxnews.com', 'http://www.foxnews.com', 'http://www.washingtonexaminer.com', 'http://www.bizpacreview.com', 'https://bearingarms.com'],\n",
        "    'ER':['http://www.thegatewaypundit.com',  \"http://www.dcclothesline.com\"]}\n",
        "\n",
        "url2Bias = {}\n",
        "for i,j in bias2Url.items():\n",
        "    for url in j:\n",
        "        url2Bias[url] = i "
      ]
    },
    {
      "cell_type": "code",
      "execution_count": null,
      "metadata": {
        "collapsed": true,
        "id": "qqd4QK2XQ3a0"
      },
      "outputs": [],
      "source": [
        "# set path for data\n",
        "dataPath = 'data/'\n",
        "labelFile = dataPath + \"ground-truth-training-byarticle.xml\"\n",
        "\n",
        "labels, sources, urls = readFiles(labelFile)\n",
        "id1, id2 = fixedTestSplit(labels)"
      ]
    },
    {
      "cell_type": "code",
      "execution_count": null,
      "metadata": {
        "id": "x07jRrFHQ3a1",
        "outputId": "5d3a5f98-fd2c-4809-c5de-005d96a4ed46"
      },
      "outputs": [
        {
          "name": "stdout",
          "output_type": "stream",
          "text": [
            "====================EL====================\n",
            "http://www.trueactivist.com: 62.50 (5/8)\n",
            "====================L====================\n",
            "https://www.salon.com: 100.00 (8/8)\n",
            "http://www.gq.com: 60.00 (3/5)\n",
            "https://www.rawstory.com: 40.00 (2/5)\n",
            "https://www.opednews.com: 100.00 (7/7)\n",
            "http://people.com: 20.00 (1/5)\n",
            "====================LC====================\n",
            "http://www.cbsnews.com: 11.11 (3/27)\n",
            "http://heavy.com: 7.69 (1/13)\n",
            "http://www.nytimes.com: 30.00 (3/10)\n",
            "http://www.rollingstone.com: 75.00 (3/4)\n",
            "====================C====================\n",
            "http://www.snopes.com: 8.33 (1/12)\n",
            "http://www.nfl.com: 0.00 (0/8)\n",
            "====================RC====================\n",
            "http://nypost.com: 66.67 (10/15)\n",
            "https://www.realclearpolitics.com: 92.86 (13/14)\n",
            "https://www.circa.com: 12.50 (3/24)\n",
            "====================R====================\n",
            "https://pjmedia.com: 100.00 (6/6)\n",
            "http://www.express.co.uk: 36.84 (7/19)\n",
            "http://opslens.com: 100.00 (14/14)\n",
            "http://insider.foxnews.com: 27.27 (3/11)\n",
            "http://www.foxnews.com: 50.00 (3/6)\n",
            "http://www.washingtonexaminer.com: 57.14 (4/7)\n",
            "http://www.bizpacreview.com: 40.00 (2/5)\n",
            "https://bearingarms.com: 66.67 (4/6)\n",
            "====================ER====================\n",
            "http://www.thegatewaypundit.com: 94.44 (17/18)\n",
            "http://www.dcclothesline.com: 85.71 (6/7)\n"
          ]
        }
      ],
      "source": [
        "aggr = collections.OrderedDict()\n",
        "for bias in bias2Url.keys():\n",
        "    bias_total = 0\n",
        "    bias_percent = 0\n",
        "    print(\"=\"*20 + bias + \"=\"*20)\n",
        "    for url in bias2Url[bias]:\n",
        "        if url in urls.keys():\n",
        "            biased = count(urls[url])['true']\n",
        "            unbiased = count(urls[url])['false']\n",
        "            total = biased + unbiased\n",
        "            percent = 100* biased / total\n",
        "            print(\"%s: %0.2f (%i/%i)\" %(url, percent, biased, total))\n",
        "            bias_total += total\n",
        "            bias_percent += biased\n",
        "            \n",
        "    aggr[bias] = bias_percent / bias_total"
      ]
    },
    {
      "cell_type": "code",
      "execution_count": null,
      "metadata": {
        "id": "55cLeheqQ3a5",
        "outputId": "ac8d85fe-c49f-4677-f6c8-438e62daf300"
      },
      "outputs": [
        {
          "data": {
            "image/png": "[encoded data removed]",
            "text/plain": [
              "<matplotlib.figure.Figure at 0x1c3baa7b908>"
            ]
          },
          "metadata": {},
          "output_type": "display_data"
        }
      ],
      "source": [
        "plt.bar(range(7), aggr.values(), tick_label=aggr.keys())\n",
        "#plt.title(\"Percentage of hyperpartisan articles by publisher bias\")\n",
        "plt.show()"
      ]
    },
    {
      "cell_type": "markdown",
      "source": [
        "Acknowledgement: https://github.com/chialun-yeh/SemEval2019/tree/4cf5b57960100a41943cbba60d7413b0bab100fd"
      ],
      "metadata": {
        "id": "d1KvgGrvRO14"
      }
    }
  ],
  "metadata": {
    "kernelspec": {
      "display_name": "Python 3",
      "language": "python",
      "name": "python3"
    },
    "language_info": {
      "codemirror_mode": {
        "name": "ipython",
        "version": 3
      },
      "file_extension": ".py",
      "mimetype": "text/x-python",
      "name": "python",
      "nbconvert_exporter": "python",
      "pygments_lexer": "ipython3",
      "version": "3.6.2"
    },
    "colab": {
      "name": "Correlation_publisher_bias.ipynb",
      "provenance": []
    }
  },
  "nbformat": 4,
  "nbformat_minor": 0
}