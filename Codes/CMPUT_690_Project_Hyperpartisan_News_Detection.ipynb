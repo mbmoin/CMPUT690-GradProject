{
  "nbformat": 4,
  "nbformat_minor": 0,
  "metadata": {
    "colab": {
      "name": "CMPUT 690 Project - Hyperpartisan News Detection.ipynb",
      "provenance": [],
      "collapsed_sections": []
    },
    "kernelspec": {
      "name": "python3",
      "display_name": "Python 3"
    },
    "language_info": {
      "name": "python"
    },
    "accelerator": "GPU",
    "widgets": {
      "application/vnd.jupyter.widget-state+json": {
        "258be473e6474fbba46109a288e0586d": {
          "model_module": "@jupyter-widgets/controls",
          "model_name": "HBoxModel",
          "model_module_version": "1.5.0",
          "state": {
            "_dom_classes": [],
            "_model_module": "@jupyter-widgets/controls",
            "_model_module_version": "1.5.0",
            "_model_name": "HBoxModel",
            "_view_count": null,
            "_view_module": "@jupyter-widgets/controls",
            "_view_module_version": "1.5.0",
            "_view_name": "HBoxView",
            "box_style": "",
            "children": [
              "IPY_MODEL_bda11c7d722d4417991f9dcfc083e4bc",
              "IPY_MODEL_4e07112f48bb4b11a2f17fd5f3590b39",
              "IPY_MODEL_43b58fe3b5ea43208611ac4519d81ffb"
            ],
            "layout": "IPY_MODEL_181009001e364e56843d4e3ecdff4129"
          }
        },
        "bda11c7d722d4417991f9dcfc083e4bc": {
          "model_module": "@jupyter-widgets/controls",
          "model_name": "HTMLModel",
          "model_module_version": "1.5.0",
          "state": {
            "_dom_classes": [],
            "_model_module": "@jupyter-widgets/controls",
            "_model_module_version": "1.5.0",
            "_model_name": "HTMLModel",
            "_view_count": null,
            "_view_module": "@jupyter-widgets/controls",
            "_view_module_version": "1.5.0",
            "_view_name": "HTMLView",
            "description": "",
            "description_tooltip": null,
            "layout": "IPY_MODEL_85c17218bb0f4f42b8e0bc7e7505bdcc",
            "placeholder": "​",
            "style": "IPY_MODEL_0b84a94b393144eab0495efbe3ed6a2d",
            "value": "100%"
          }
        },
        "4e07112f48bb4b11a2f17fd5f3590b39": {
          "model_module": "@jupyter-widgets/controls",
          "model_name": "FloatProgressModel",
          "model_module_version": "1.5.0",
          "state": {
            "_dom_classes": [],
            "_model_module": "@jupyter-widgets/controls",
            "_model_module_version": "1.5.0",
            "_model_name": "FloatProgressModel",
            "_view_count": null,
            "_view_module": "@jupyter-widgets/controls",
            "_view_module_version": "1.5.0",
            "_view_name": "ProgressView",
            "bar_style": "success",
            "description": "",
            "description_tooltip": null,
            "layout": "IPY_MODEL_8445f41494b64f139f7f5032a801b587",
            "max": 2,
            "min": 0,
            "orientation": "horizontal",
            "style": "IPY_MODEL_373b37c69d59470eaf73d9de559c153c",
            "value": 2
          }
        },
        "43b58fe3b5ea43208611ac4519d81ffb": {
          "model_module": "@jupyter-widgets/controls",
          "model_name": "HTMLModel",
          "model_module_version": "1.5.0",
          "state": {
            "_dom_classes": [],
            "_model_module": "@jupyter-widgets/controls",
            "_model_module_version": "1.5.0",
            "_model_name": "HTMLModel",
            "_view_count": null,
            "_view_module": "@jupyter-widgets/controls",
            "_view_module_version": "1.5.0",
            "_view_name": "HTMLView",
            "description": "",
            "description_tooltip": null,
            "layout": "IPY_MODEL_936c82af373c4b1f9d8a8e2140fd9f2c",
            "placeholder": "​",
            "style": "IPY_MODEL_0109366fcd9544838498fbcfb0331cd3",
            "value": " 2/2 [00:00&lt;00:00,  2.27it/s]"
          }
        },
        "181009001e364e56843d4e3ecdff4129": {
          "model_module": "@jupyter-widgets/base",
          "model_name": "LayoutModel",
          "model_module_version": "1.2.0",
          "state": {
            "_model_module": "@jupyter-widgets/base",
            "_model_module_version": "1.2.0",
            "_model_name": "LayoutModel",
            "_view_count": null,
            "_view_module": "@jupyter-widgets/base",
            "_view_module_version": "1.2.0",
            "_view_name": "LayoutView",
            "align_content": null,
            "align_items": null,
            "align_self": null,
            "border": null,
            "bottom": null,
            "display": null,
            "flex": null,
            "flex_flow": null,
            "grid_area": null,
            "grid_auto_columns": null,
            "grid_auto_flow": null,
            "grid_auto_rows": null,
            "grid_column": null,
            "grid_gap": null,
            "grid_row": null,
            "grid_template_areas": null,
            "grid_template_columns": null,
            "grid_template_rows": null,
            "height": null,
            "justify_content": null,
            "justify_items": null,
            "left": null,
            "margin": null,
            "max_height": null,
            "max_width": null,
            "min_height": null,
            "min_width": null,
            "object_fit": null,
            "object_position": null,
            "order": null,
            "overflow": null,
            "overflow_x": null,
            "overflow_y": null,
            "padding": null,
            "right": null,
            "top": null,
            "visibility": null,
            "width": null
          }
        },
        "85c17218bb0f4f42b8e0bc7e7505bdcc": {
          "model_module": "@jupyter-widgets/base",
          "model_name": "LayoutModel",
          "model_module_version": "1.2.0",
          "state": {
            "_model_module": "@jupyter-widgets/base",
            "_model_module_version": "1.2.0",
            "_model_name": "LayoutModel",
            "_view_count": null,
            "_view_module": "@jupyter-widgets/base",
            "_view_module_version": "1.2.0",
            "_view_name": "LayoutView",
            "align_content": null,
            "align_items": null,
            "align_self": null,
            "border": null,
            "bottom": null,
            "display": null,
            "flex": null,
            "flex_flow": null,
            "grid_area": null,
            "grid_auto_columns": null,
            "grid_auto_flow": null,
            "grid_auto_rows": null,
            "grid_column": null,
            "grid_gap": null,
            "grid_row": null,
            "grid_template_areas": null,
            "grid_template_columns": null,
            "grid_template_rows": null,
            "height": null,
            "justify_content": null,
            "justify_items": null,
            "left": null,
            "margin": null,
            "max_height": null,
            "max_width": null,
            "min_height": null,
            "min_width": null,
            "object_fit": null,
            "object_position": null,
            "order": null,
            "overflow": null,
            "overflow_x": null,
            "overflow_y": null,
            "padding": null,
            "right": null,
            "top": null,
            "visibility": null,
            "width": null
          }
        },
        "0b84a94b393144eab0495efbe3ed6a2d": {
          "model_module": "@jupyter-widgets/controls",
          "model_name": "DescriptionStyleModel",
          "model_module_version": "1.5.0",
          "state": {
            "_model_module": "@jupyter-widgets/controls",
            "_model_module_version": "1.5.0",
            "_model_name": "DescriptionStyleModel",
            "_view_count": null,
            "_view_module": "@jupyter-widgets/base",
            "_view_module_version": "1.2.0",
            "_view_name": "StyleView",
            "description_width": ""
          }
        },
        "8445f41494b64f139f7f5032a801b587": {
          "model_module": "@jupyter-widgets/base",
          "model_name": "LayoutModel",
          "model_module_version": "1.2.0",
          "state": {
            "_model_module": "@jupyter-widgets/base",
            "_model_module_version": "1.2.0",
            "_model_name": "LayoutModel",
            "_view_count": null,
            "_view_module": "@jupyter-widgets/base",
            "_view_module_version": "1.2.0",
            "_view_name": "LayoutView",
            "align_content": null,
            "align_items": null,
            "align_self": null,
            "border": null,
            "bottom": null,
            "display": null,
            "flex": null,
            "flex_flow": null,
            "grid_area": null,
            "grid_auto_columns": null,
            "grid_auto_flow": null,
            "grid_auto_rows": null,
            "grid_column": null,
            "grid_gap": null,
            "grid_row": null,
            "grid_template_areas": null,
            "grid_template_columns": null,
            "grid_template_rows": null,
            "height": null,
            "justify_content": null,
            "justify_items": null,
            "left": null,
            "margin": null,
            "max_height": null,
            "max_width": null,
            "min_height": null,
            "min_width": null,
            "object_fit": null,
            "object_position": null,
            "order": null,
            "overflow": null,
            "overflow_x": null,
            "overflow_y": null,
            "padding": null,
            "right": null,
            "top": null,
            "visibility": null,
            "width": null
          }
        },
        "373b37c69d59470eaf73d9de559c153c": {
          "model_module": "@jupyter-widgets/controls",
          "model_name": "ProgressStyleModel",
          "model_module_version": "1.5.0",
          "state": {
            "_model_module": "@jupyter-widgets/controls",
            "_model_module_version": "1.5.0",
            "_model_name": "ProgressStyleModel",
            "_view_count": null,
            "_view_module": "@jupyter-widgets/base",
            "_view_module_version": "1.2.0",
            "_view_name": "StyleView",
            "bar_color": null,
            "description_width": ""
          }
        },
        "936c82af373c4b1f9d8a8e2140fd9f2c": {
          "model_module": "@jupyter-widgets/base",
          "model_name": "LayoutModel",
          "model_module_version": "1.2.0",
          "state": {
            "_model_module": "@jupyter-widgets/base",
            "_model_module_version": "1.2.0",
            "_model_name": "LayoutModel",
            "_view_count": null,
            "_view_module": "@jupyter-widgets/base",
            "_view_module_version": "1.2.0",
            "_view_name": "LayoutView",
            "align_content": null,
            "align_items": null,
            "align_self": null,
            "border": null,
            "bottom": null,
            "display": null,
            "flex": null,
            "flex_flow": null,
            "grid_area": null,
            "grid_auto_columns": null,
            "grid_auto_flow": null,
            "grid_auto_rows": null,
            "grid_column": null,
            "grid_gap": null,
            "grid_row": null,
            "grid_template_areas": null,
            "grid_template_columns": null,
            "grid_template_rows": null,
            "height": null,
            "justify_content": null,
            "justify_items": null,
            "left": null,
            "margin": null,
            "max_height": null,
            "max_width": null,
            "min_height": null,
            "min_width": null,
            "object_fit": null,
            "object_position": null,
            "order": null,
            "overflow": null,
            "overflow_x": null,
            "overflow_y": null,
            "padding": null,
            "right": null,
            "top": null,
            "visibility": null,
            "width": null
          }
        },
        "0109366fcd9544838498fbcfb0331cd3": {
          "model_module": "@jupyter-widgets/controls",
          "model_name": "DescriptionStyleModel",
          "model_module_version": "1.5.0",
          "state": {
            "_model_module": "@jupyter-widgets/controls",
            "_model_module_version": "1.5.0",
            "_model_name": "DescriptionStyleModel",
            "_view_count": null,
            "_view_module": "@jupyter-widgets/base",
            "_view_module_version": "1.2.0",
            "_view_name": "StyleView",
            "description_width": ""
          }
        }
      }
    }
  },
  "cells": [
    {
      "cell_type": "markdown",
      "source": [
        "# **CMPUT 690 Project - SemEval 2019 Task 4: Hyperpartisan News Detection**"
      ],
      "metadata": {
        "id": "Dxy4W6N2nF-Y"
      }
    },
    {
      "cell_type": "markdown",
      "source": [
        "Task: Given a news article text, decide whether it follows a hyperpartisan argumentation, i.e., whether it exhibits blind, prejudiced, or unreasoning allegiance to one party, faction, cause, or person.\n",
        "\n",
        "Overview: https://pan.webis.de/semeval19/semeval19-web/index.html"
      ],
      "metadata": {
        "id": "0lvU1Fe0yiVr"
      }
    },
    {
      "cell_type": "markdown",
      "source": [
        "##ML Approach "
      ],
      "metadata": {
        "id": "a3WNRszanORK"
      }
    },
    {
      "cell_type": "markdown",
      "source": [
        "Load modules"
      ],
      "metadata": {
        "id": "jibNcH4JnWvE"
      }
    },
    {
      "cell_type": "code",
      "execution_count": 308,
      "metadata": {
        "id": "clOqfbT5PmXy"
      },
      "outputs": [],
      "source": [
        "import os\n",
        "import getopt\n",
        "import sys\n",
        "import xml.sax\n",
        "import lxml.sax\n",
        "import lxml.etree\n",
        "import re\n",
        "import json\n",
        "import numpy\n",
        "from sklearn import tree\n",
        "from sklearn.metrics import accuracy_score\n",
        "from sklearn.linear_model import LogisticRegression\n",
        "from sklearn.svm import SVC\n",
        "from sklearn.svm import LinearSVC\n",
        "from sklearn.model_selection import GridSearchCV\n",
        "from sklearn import tree, preprocessing\n",
        "import nltk\n",
        "from nltk.stem import PorterStemmer\n",
        "from nltk.tokenize import sent_tokenize, word_tokenize\n",
        "from nltk.corpus import stopwords\n",
        "from nltk.tag import StanfordNERTagger\n",
        "import gensim\n",
        "import time\n",
        "from sklearn.naive_bayes import GaussianNB\n",
        "from sklearn.ensemble import RandomForestClassifier\n",
        "from sklearn.ensemble import ExtraTreesClassifier\n",
        "from sklearn.ensemble import GradientBoostingClassifier\n",
        "from sklearn.ensemble import IsolationForest\n",
        "from sklearn.ensemble import VotingClassifier\n",
        "from sklearn.neural_network import MLPClassifier\n",
        "from sklearn.ensemble import AdaBoostClassifier\n",
        "from urllib.parse import urlparse\n",
        "from nltk.sentiment.vader import SentimentIntensityAnalyzer\n",
        "import pickle\n",
        "import pandas as pd"
      ]
    },
    {
      "cell_type": "code",
      "source": [
        "import nltk\n",
        "nltk.download('stopwords')\n",
        "nltk.download('punkt')\n",
        "nltk.download('vader_lexicon')"
      ],
      "metadata": {
        "colab": {
          "base_uri": "https://localhost:8080/"
        },
        "id": "C_qdgEPcorD4",
        "outputId": "4e481289-63ff-4093-8fc3-db99602859a6"
      },
      "execution_count": 309,
      "outputs": [
        {
          "output_type": "stream",
          "name": "stdout",
          "text": [
            "[nltk_data] Downloading package stopwords to /root/nltk_data...\n",
            "[nltk_data]   Package stopwords is already up-to-date!\n",
            "[nltk_data] Downloading package punkt to /root/nltk_data...\n",
            "[nltk_data]   Package punkt is already up-to-date!\n",
            "[nltk_data] Downloading package vader_lexicon to /root/nltk_data...\n",
            "[nltk_data]   Package vader_lexicon is already up-to-date!\n"
          ]
        },
        {
          "output_type": "execute_result",
          "data": {
            "text/plain": [
              "True"
            ]
          },
          "metadata": {},
          "execution_count": 309
        }
      ]
    },
    {
      "cell_type": "code",
      "source": [
        "ps = PorterStemmer()\n",
        "stopWords = list(map(lambda x: ps.stem(x), stopwords.words('english')))\n",
        "# websites = []\n",
        "\n",
        "# with open('websites.txt') as f:\n",
        "#     for website in f:\n",
        "#         websites.append(website.strip().lower())\n"
      ],
      "metadata": {
        "id": "1QFctLBjPrpw"
      },
      "execution_count": 310,
      "outputs": []
    },
    {
      "cell_type": "markdown",
      "source": [
        "ARTICLE HANDLING"
      ],
      "metadata": {
        "id": "eMsfQNW1o7mA"
      }
    },
    {
      "cell_type": "code",
      "source": [
        "def handleArticle(article, model, X):\n",
        "    text = lxml.etree.tostring(article, method='text', encoding='UTF-8').decode()\n",
        "    htmltext = lxml.etree.tostring(article, method='html', encoding='UTF-8').decode()\n",
        "    tokens = nltk.word_tokenize(text)\n",
        "\n",
        "    finalArray = numpy.zeros(300)\n",
        "    cnt = 0\n",
        "    cnt2 = 0\n",
        "\n",
        "    #for the model\n",
        "    triggerWords = ['trigger', 'triggered', 'triggering', 'triggers', 'fuck', 'fucking', 'fuckery', 'fucked']\n",
        "    triggerCount = 0\n",
        "\n",
        "    #get word2vec representation for every word in article\n",
        "    for token in tokens:\n",
        "        if token in triggerWords:\n",
        "            triggerCount += 1  \n",
        "        if token in model and token not in stopWords:\n",
        "            finalArray += model[token] \n",
        "            cnt += 1\n",
        "        else:\n",
        "            cnt2 += 1\n",
        "\n",
        "    if cnt != 0:\n",
        "        finalArray /= cnt\n",
        "\n",
        "    sid = SentimentIntensityAnalyzer()\n",
        "    ss = sid.polarity_scores(text)\n",
        "\n",
        "    websites = []\n",
        "\n",
        "    with open('websites.txt') as f:\n",
        "      for website in f:\n",
        "        websites.append(website.strip().lower())\n",
        "\n",
        "    #get core part of url, and check if it is in websites list\n",
        "    websiteMatchCount = 0\n",
        "    urls = re.findall(r'(?<=<a href=\")[^\"]*', htmltext)\n",
        "    for url in urls:\n",
        "        site = urlparse(url).netloc\n",
        "        if site.startswith('www.'):\n",
        "            site = site[4:]\n",
        "        if site.lower() in websites:\n",
        "            websiteMatchCount += 1\n",
        "\n",
        "    #get date of article publification\n",
        "    dateParts = str(article.get('published-at')).split('-')\n",
        "    date = 0\n",
        "    if len(dateParts) >= 2:\n",
        "        year = int(str(article.get('published-at')).split('-')[0])\n",
        "        month = int(str(article.get('published-at')).split('-')[1])\n",
        "        date = year * 12 + month\n",
        "\n",
        "\n",
        "    finalArray = numpy.append(finalArray, ss['neg'])\n",
        "    finalArray = numpy.append(finalArray, ss['neu'])\n",
        "    finalArray = numpy.append(finalArray, ss['pos'])\n",
        "    finalArray = numpy.append(finalArray, ss['compound'])\n",
        "\n",
        "    finalArray = numpy.append(finalArray, date)\n",
        "\n",
        "    finalArray = numpy.append(finalArray, websiteMatchCount)\n",
        "\n",
        "    finalArray = numpy.append(finalArray, triggerCount)\n",
        "\n",
        "    #progress print\n",
        "    print(article.get('id'), end='\\r')\n",
        "    \n",
        "    X[article.get('id')] = list(finalArray)"
      ],
      "metadata": {
        "id": "uKi22DVVPxdB"
      },
      "execution_count": 311,
      "outputs": []
    },
    {
      "cell_type": "markdown",
      "source": [
        "SAX for stream parsing"
      ],
      "metadata": {
        "id": "0UxnzI3epOBo"
      }
    },
    {
      "cell_type": "code",
      "source": [
        "class HyperpartisanArticleExtractor(xml.sax.ContentHandler):\n",
        "    def __init__(self, model, X):\n",
        "        xml.sax.ContentHandler.__init__(self)\n",
        "        self.lxmlhandler = \"undefined\"\n",
        "        self.model = model\n",
        "        self.X = X\n",
        "\n",
        "    def startElement(self, name, attrs):\n",
        "        if name != \"articles\":\n",
        "            if name == \"article\":\n",
        "                self.lxmlhandler = lxml.sax.ElementTreeContentHandler()\n",
        "\n",
        "            self.lxmlhandler.startElement(name, attrs)\n",
        "\n",
        "    def characters(self, data):\n",
        "        if self.lxmlhandler != \"undefined\":\n",
        "            self.lxmlhandler.characters(data)\n",
        "\n",
        "    def endElement(self, name):\n",
        "        if self.lxmlhandler != \"undefined\":\n",
        "            self.lxmlhandler.endElement(name)\n",
        "            if name == \"article\":\n",
        "                # pass to handleArticle function\n",
        "                handleArticle(self.lxmlhandler.etree.getroot(), self.model, self.X)\n",
        "                self.lxmlhandler = \"undefined\"        \n",
        "\n",
        "class HyperpartisanTruthExtractor(xml.sax.ContentHandler):\n",
        "    def __init__(self, X):\n",
        "        xml.sax.ContentHandler.__init__(self)\n",
        "        self.lxmlhandler = \"undefined\"\n",
        "        self.X = X\n",
        "\n",
        "    def startElement(self, name, attrs):\n",
        "        if name != \"articles\":\n",
        "            if name == \"article\":\n",
        "                self.lxmlhandler = lxml.sax.ElementTreeContentHandler()\n",
        "\n",
        "            self.lxmlhandler.startElement(name, attrs)\n",
        "\n",
        "    def characters(self, data):\n",
        "        if self.lxmlhandler != \"undefined\":\n",
        "            self.lxmlhandler.characters(data)\n",
        "\n",
        "    def endElement(self, name):\n",
        "        if self.lxmlhandler != \"undefined\":\n",
        "            self.lxmlhandler.endElement(name)\n",
        "            if name == \"article\":\n",
        "                self.X[self.lxmlhandler.etree.getroot().get(\"id\")] = 1 if self.lxmlhandler.etree.getroot().get('hyperpartisan') == 'true' else 0\n",
        "                self.lxmlhandler = \"undefined\"\n",
        "\n",
        "def write(model, inputDataset, inputTruth, testDataset, testTruth, outputDataset, outputTruth, outputTestDataset, outputTestTruth):\n",
        "    start_time = time.time()\n",
        "    \n",
        "    X1 = {}\n",
        "    with open(inputDataset) as inputRunFile:\n",
        "        print('parsing training dataset')\n",
        "        xml.sax.parse(inputRunFile, HyperpartisanArticleExtractor(model, X1))\n",
        "    json.dump(X1, open(outputDataset, 'w'))\n",
        "\n",
        "    Y1 = {}\n",
        "    with open(inputTruth) as inputTruthFile:\n",
        "        print('parsing training truth')\n",
        "        xml.sax.parse(inputTruthFile, HyperpartisanTruthExtractor(Y1))\n",
        "    json.dump(Y1, open(outputTruth, 'w'))\n",
        "\n",
        "    X2 = {}\n",
        "    with open(testDataset) as testDatasetFile:\n",
        "        print('parsing validation dataset')\n",
        "        xml.sax.parse(testDatasetFile, HyperpartisanArticleExtractor(model, X2))\n",
        "    json.dump(X2, open(outputTestDataset, 'w'))\n",
        "\n",
        "    Y2 = {}\n",
        "    with open(testTruth) as testTruthFile:\n",
        "        print('parsing validation truth')\n",
        "        xml.sax.parse(testTruthFile, HyperpartisanTruthExtractor(Y2))\n",
        "    json.dump(Y2, open(outputTestTruth, 'w'))\n",
        "\n",
        "    elapsed_time = time.time() - start_time\n",
        "    \n",
        "    print('FINISHED!', elapsed_time)\n",
        "    return X1, Y1, X2, Y2\n",
        "\n",
        "def read(trainingDataset, trainingTruth, validationDataset, validationTruth):\n",
        "    start_time = time.time()\n",
        "    # print('reading X1...')\n",
        "    X1 = json.load(open(trainingDataset, 'r'))\n",
        "    # print('reading Y1...')\n",
        "    Y1 = json.load(open(trainingTruth, 'r'))\n",
        "    # print('reading X2...')\n",
        "    X2 = json.load(open(validationDataset, 'r'))\n",
        "    # print('reading Y2...')\n",
        "    Y2 = json.load(open(validationTruth, 'r'))\n",
        "\n",
        "    print('done!', time.time() - start_time)\n",
        "    \n",
        "    return X1, Y1, X2, Y2         \n",
        "\n",
        "def fitFunc(clf, X1, Y1, X2, Y2):\n",
        "    start_time = time.time()\n",
        "    \n",
        "    X1 = list(X1.values())\n",
        "    Y1 = list(Y1.values())\n",
        "    X2 = list(X2.values())\n",
        "    Y2 = list(Y2.values())\n",
        "\n",
        "    # print('scaling dataset..')\n",
        "    X1 = preprocessing.scale(X1)\n",
        "    X2 = preprocessing.scale(X2)\n",
        "\n",
        "    print('***********************')\n",
        "    print('starting fit with:', clf)\n",
        "    clf = clf.fit(X1, Y1)\n",
        "    #dump the model\n",
        "    pickle.dump(clf, open('model', 'wb'))\n",
        "\n",
        "    #validate\n",
        "    predicted = clf.predict(X2)\n",
        "    print('accuracy_score', accuracy_score(predicted, Y2))\n",
        "\n",
        "    print('time elapsed:', time.time() - start_time)\n",
        "    print('***********************')\n",
        "\n",
        "    return(accuracy_score(predicted, Y2))\n"
      ],
      "metadata": {
        "id": "HEjG4xBuP5xg"
      },
      "execution_count": 312,
      "outputs": []
    },
    {
      "cell_type": "markdown",
      "source": [
        "For loading data from Google drive"
      ],
      "metadata": {
        "id": "bLYOo9DYpYBC"
      }
    },
    {
      "cell_type": "code",
      "source": [
        "from google.colab import drive\n",
        "drive.mount('/content/gdrive', force_remount=True)\n",
        "root_dir = \"/content/gdrive/My Drive/\"\n",
        "drive.mount('/content/gdrive', force_remount=True)\n",
        "root_dir = \"/content/gdrive/My Drive/\"\n"
      ],
      "metadata": {
        "colab": {
          "base_uri": "https://localhost:8080/"
        },
        "id": "WMWLv6PWhiEL",
        "outputId": "c0a6f951-0cef-484c-86e2-883dcfe88d67"
      },
      "execution_count": 313,
      "outputs": [
        {
          "output_type": "stream",
          "name": "stdout",
          "text": [
            "Mounted at /content/gdrive\n",
            "Mounted at /content/gdrive\n"
          ]
        }
      ]
    },
    {
      "cell_type": "markdown",
      "source": [
        "Load model"
      ],
      "metadata": {
        "id": "lBLBIHxupoIA"
      }
    },
    {
      "cell_type": "code",
      "source": [
        "# !pip install wget\n",
        "\n",
        "# import wget\n",
        "# url = 'https://s3.amazonaws.com/dl4j-distribution/GoogleNews-vectors-negative300.bin.gz'\n",
        "# url = 'https://drive.google.com/file/d/0B7XkCwpI5KDYNlNUTTlSS21pQmM/edit?usp=sharing'\n",
        "# filename = wget.download(url)"
      ],
      "metadata": {
        "id": "FkvNM13QuJIU"
      },
      "execution_count": 314,
      "outputs": []
    },
    {
      "cell_type": "code",
      "source": [
        "#!wget -P /root/input/ -c \"https://s3.amazonaws.com/dl4j-distribution/GoogleNews-vectors-negative300.bin.gz\""
      ],
      "metadata": {
        "id": "xP19ZSP0XAs6"
      },
      "execution_count": 315,
      "outputs": []
    },
    {
      "cell_type": "code",
      "source": [
        "#word2vec word embeddings\n",
        "#The below step requires some time, downloads 1662.8 MB\n",
        "# import gensim\n",
        "# import gensim.downloader as api\n",
        "# model = api.load(\"word2vec-google-news-300\")\n",
        "#Ref: https://towardsdatascience.com/using-word2vec-to-analyze-news-headlines-and-predict-article-success-cdeda5f14751\n",
        "#Ref: https://code.google.com/archive/p/word2vec/\n",
        "\n"
      ],
      "metadata": {
        "id": "ZCEL77JR5pvw"
      },
      "execution_count": 316,
      "outputs": []
    },
    {
      "cell_type": "code",
      "source": [
        "import gzip\n",
        "f_in = gzip.open( root_dir+'Colab Notebooks/BigData/GoogleNews-vectors-negative300.bin.gz', 'rb')\n",
        "f_out = open(root_dir+'Colab Notebooks/BigData/GoogleNews-vectors-negative300.bin', 'wb')\n",
        "f_out.writelines(f_in)\n",
        "\n",
        "import gensim\n",
        "from gensim.models import Word2Vec, KeyedVectors\n",
        "from sklearn.decomposition import PCA\n",
        "\n",
        "print('loading word2vec model...')\n",
        "model = gensim.models.KeyedVectors.load_word2vec_format(root_dir+'Colab Notebooks/BigData/GoogleNews-vectors-negative300.bin', binary=True, limit=100000)"
      ],
      "metadata": {
        "colab": {
          "base_uri": "https://localhost:8080/"
        },
        "id": "dK79dIpBRt5C",
        "outputId": "e2582e7e-5c8d-4af9-c573-cbcfb6a2bdf4"
      },
      "execution_count": 317,
      "outputs": [
        {
          "output_type": "stream",
          "name": "stdout",
          "text": [
            "loading word2vec model...\n"
          ]
        }
      ]
    },
    {
      "cell_type": "markdown",
      "source": [
        "GoogleNews-vectors-negative300.bin.gz is available at:\n",
        "\n",
        "https://drive.google.com/file/d/0B7XkCwpI5KDYNlNUTTlSS21pQmM/edit?resourcekey=0-wjGZdNAUop6WykTtMip30g"
      ],
      "metadata": {
        "id": "LPuEGXU4uQxf"
      }
    },
    {
      "cell_type": "markdown",
      "source": [
        "Input and Output"
      ],
      "metadata": {
        "id": "nzYefPtxqcS9"
      }
    },
    {
      "cell_type": "code",
      "source": [
        "# input dataset\n",
        "inputDataset = root_dir+'Colab Notebooks/BigData/by-article/articles-training-byarticle-20181122.xml'\n",
        "inputTruth = root_dir+'Colab Notebooks/BigData/by-article/ground-truth-training-byarticle-20181122.xml'\n",
        "testDataset = root_dir+'Colab Notebooks/BigData/by-article/articles-test-byarticle-20181207.xml'\n",
        "testTruth = root_dir+'Colab Notebooks/BigData/by-article/ground-truth-test-byarticle-20181207.xml'\n",
        "\n",
        "#output files to which the parsed feature vectors will be output\n",
        "s = \"output\"\n",
        "st = \"test-output\"\n",
        "\n",
        "outputDataset = s + '.txt'\n",
        "outputTruth = s + '-truth.txt'\n",
        "outputTestDataset = st  + '.txt'\n",
        "outputTestTruth = st + '-truth.txt'\n"
      ],
      "metadata": {
        "id": "FNUsj6GvqgyW"
      },
      "execution_count": 318,
      "outputs": []
    },
    {
      "cell_type": "markdown",
      "source": [
        "Input data is available at:\n",
        "https://zenodo.org/record/5776081#.YljDSujMI2w"
      ],
      "metadata": {
        "id": "TNsRvZc1ugzR"
      }
    },
    {
      "cell_type": "markdown",
      "source": [
        "Parse the dataset and save the feature vectors to files"
      ],
      "metadata": {
        "id": "yzNrAW6otbE3"
      }
    },
    {
      "cell_type": "code",
      "source": [
        "X1, Y1, X2, Y2 = write(model, inputDataset, inputTruth, testDataset, testTruth, outputDataset, outputTruth, outputTestDataset, outputTestTruth)\n",
        "X1 = list(X1.values())\n",
        "Y1 = list(Y1.values())\n",
        "X2 = list(X2.values())\n",
        "Y2 = list(Y2.values())"
      ],
      "metadata": {
        "id": "30O1eFo-tWqL",
        "colab": {
          "base_uri": "https://localhost:8080/"
        },
        "outputId": "8e255719-9954-4a97-b782-4e7071b44a08"
      },
      "execution_count": 319,
      "outputs": [
        {
          "output_type": "stream",
          "name": "stdout",
          "text": [
            "parsing training dataset\n",
            "parsing training truth\n",
            "parsing validation dataset\n",
            "parsing validation truth\n",
            "FINISHED! 37.170145750045776\n"
          ]
        }
      ]
    },
    {
      "cell_type": "markdown",
      "source": [
        "Applying ML Classifiers for hyperpartisan news detection"
      ],
      "metadata": {
        "id": "VcrMpg8AwYNK"
      }
    },
    {
      "cell_type": "code",
      "source": [
        "#Store model results\n",
        "model_results = {}\n",
        "#Add baseline accuracy\n",
        "model_results[\"BASELINE\"] = 0.462"
      ],
      "metadata": {
        "id": "Aim07wCH6M2y"
      },
      "execution_count": 320,
      "outputs": []
    },
    {
      "cell_type": "markdown",
      "source": [
        "Logistic Regression"
      ],
      "metadata": {
        "id": "06CiDKVQqjne"
      }
    },
    {
      "cell_type": "code",
      "source": [
        "from sklearn.linear_model import LogisticRegression\n",
        "log_reg = LogisticRegression(n_jobs=-1, verbose=1, random_state=42)\n",
        "log_reg = log_reg.fit(X1, Y1)\n",
        "predicted = log_reg.predict(X2)\n",
        "\n",
        "log_reg_acc = accuracy_score(predicted, Y2)\n",
        "print('accuracy_score', accuracy_score(predicted, Y2))\n",
        "\n",
        "model_results[\"Logistic Regression\"] = log_reg_acc"
      ],
      "metadata": {
        "id": "3xYslxU0TB_n",
        "colab": {
          "base_uri": "https://localhost:8080/"
        },
        "outputId": "d0045da2-cb50-4e4e-c138-bdbd8e967cd5"
      },
      "execution_count": 321,
      "outputs": [
        {
          "output_type": "stream",
          "name": "stderr",
          "text": [
            "[Parallel(n_jobs=-1)]: Using backend LokyBackend with 2 concurrent workers.\n"
          ]
        },
        {
          "output_type": "stream",
          "name": "stdout",
          "text": [
            "accuracy_score 0.5\n"
          ]
        },
        {
          "output_type": "stream",
          "name": "stderr",
          "text": [
            "[Parallel(n_jobs=-1)]: Done   1 out of   1 | elapsed:    0.4s finished\n"
          ]
        }
      ]
    },
    {
      "cell_type": "markdown",
      "source": [
        "SVM"
      ],
      "metadata": {
        "id": "-ojITJb2_H20"
      }
    },
    {
      "cell_type": "code",
      "source": [
        "#Linear SVC\n",
        "from sklearn.svm import LinearSVC\n",
        "lin_svc = LinearSVC(random_state=42)\n",
        "#LinearSVC(random_state=0, tol=1e-05)\n",
        "lin_svc = lin_svc.fit(X1, Y1)\n",
        "predicted = lin_svc.predict(X2)\n",
        "\n",
        "lin_svc_acc = accuracy_score(predicted, Y2)\n",
        "print('accuracy_score', accuracy_score(predicted, Y2))\n",
        "\n",
        "model_results[\"LinearSVC\"] = lin_svc_acc\n"
      ],
      "metadata": {
        "colab": {
          "base_uri": "https://localhost:8080/"
        },
        "id": "vG6y3por_G1l",
        "outputId": "9ad9dfb7-bf0f-457f-a372-dea938f94374"
      },
      "execution_count": 322,
      "outputs": [
        {
          "output_type": "stream",
          "name": "stdout",
          "text": [
            "accuracy_score 0.5015923566878981\n"
          ]
        },
        {
          "output_type": "stream",
          "name": "stderr",
          "text": [
            "/usr/local/lib/python3.7/dist-packages/sklearn/svm/_base.py:1208: ConvergenceWarning: Liblinear failed to converge, increase the number of iterations.\n",
            "  ConvergenceWarning,\n"
          ]
        }
      ]
    },
    {
      "cell_type": "code",
      "source": [
        "from sklearn.model_selection import GridSearchCV\n",
        "parameters = [{'C': [2**x for x in range(-5,5)]}] \n",
        "svc = GridSearchCV(SVC(gamma='auto'), parameters)\n",
        "\n",
        "svc = svc.fit(X1, Y1)\n",
        "predicted = svc.predict(X2)\n",
        "\n",
        "svc_acc = accuracy_score(predicted, Y2)\n",
        "print('accuracy_score', accuracy_score(predicted, Y2))\n",
        "\n",
        "model_results[\"SVC\"] = svc_acc\n"
      ],
      "metadata": {
        "colab": {
          "base_uri": "https://localhost:8080/"
        },
        "id": "88UwM_LPI7Xu",
        "outputId": "c3ec1a8f-889a-4a97-f606-634a1dcdd7dd"
      },
      "execution_count": 323,
      "outputs": [
        {
          "output_type": "stream",
          "name": "stdout",
          "text": [
            "accuracy_score 0.5302547770700637\n"
          ]
        }
      ]
    },
    {
      "cell_type": "markdown",
      "source": [
        "KNN"
      ],
      "metadata": {
        "id": "8zfBLXLMAmjk"
      }
    },
    {
      "cell_type": "code",
      "source": [
        "from sklearn.neighbors import KNeighborsClassifier\n",
        "knn = KNeighborsClassifier(n_neighbors=3)\n",
        "knn = knn.fit(X1, Y1)\n",
        "predicted = knn.predict(X2)\n",
        "\n",
        "knn_acc = accuracy_score(predicted, Y2)\n",
        "print('accuracy_score', accuracy_score(predicted, Y2))\n",
        "\n",
        "model_results[\"K-Nearest Neighbors\"] = knn_acc"
      ],
      "metadata": {
        "colab": {
          "base_uri": "https://localhost:8080/"
        },
        "id": "ZXSBsQkLAi_w",
        "outputId": "4ecfc7cb-103e-4ca5-fa2f-c3fdd22f60c0"
      },
      "execution_count": 324,
      "outputs": [
        {
          "output_type": "stream",
          "name": "stdout",
          "text": [
            "accuracy_score 0.5047770700636943\n"
          ]
        }
      ]
    },
    {
      "cell_type": "markdown",
      "source": [
        "Decision Tree"
      ],
      "metadata": {
        "id": "KzmvNz0BBK3w"
      }
    },
    {
      "cell_type": "code",
      "source": [
        "from sklearn.tree import DecisionTreeClassifier\n",
        "dtc = DecisionTreeClassifier(random_state=0)\n",
        "dtc = dtc.fit(X1, Y1)\n",
        "predicted = dtc.predict(X2)\n",
        "\n",
        "dtc_acc = accuracy_score(predicted, Y2)\n",
        "print('accuracy_score', accuracy_score(predicted, Y2))\n",
        "\n",
        "model_results[\"Decision Tree\"] = dtc_acc"
      ],
      "metadata": {
        "colab": {
          "base_uri": "https://localhost:8080/"
        },
        "id": "hl_SYJ1qBL67",
        "outputId": "6b5e689e-f642-42a0-94ac-c885f2900d33"
      },
      "execution_count": 325,
      "outputs": [
        {
          "output_type": "stream",
          "name": "stdout",
          "text": [
            "accuracy_score 0.47611464968152867\n"
          ]
        }
      ]
    },
    {
      "cell_type": "markdown",
      "source": [
        "Random Forest"
      ],
      "metadata": {
        "id": "onwm0omCBh6T"
      }
    },
    {
      "cell_type": "code",
      "source": [
        "from sklearn.ensemble import RandomForestClassifier\n",
        "rfc = RandomForestClassifier(n_estimators=100, n_jobs=-1, verbose=1, random_state=42)\n",
        "rfc = rfc.fit(X1, Y1)\n",
        "predicted = rfc.predict(X2)\n",
        "\n",
        "rfc_acc = accuracy_score(predicted, Y2)\n",
        "print('accuracy_score', accuracy_score(predicted, Y2))\n",
        "\n",
        "model_results[\"Random Forest\"] = rfc_acc"
      ],
      "metadata": {
        "id": "r3dL-x0nBhaf",
        "colab": {
          "base_uri": "https://localhost:8080/"
        },
        "outputId": "d52b2cc8-c881-46bd-db1b-1a451e4ceb76"
      },
      "execution_count": 326,
      "outputs": [
        {
          "output_type": "stream",
          "name": "stderr",
          "text": [
            "[Parallel(n_jobs=-1)]: Using backend ThreadingBackend with 2 concurrent workers.\n",
            "[Parallel(n_jobs=-1)]: Done  46 tasks      | elapsed:    0.2s\n"
          ]
        },
        {
          "output_type": "stream",
          "name": "stdout",
          "text": [
            "accuracy_score 0.47929936305732485\n"
          ]
        },
        {
          "output_type": "stream",
          "name": "stderr",
          "text": [
            "[Parallel(n_jobs=-1)]: Done 100 out of 100 | elapsed:    0.5s finished\n",
            "[Parallel(n_jobs=2)]: Using backend ThreadingBackend with 2 concurrent workers.\n",
            "[Parallel(n_jobs=2)]: Done  46 tasks      | elapsed:    0.0s\n",
            "[Parallel(n_jobs=2)]: Done 100 out of 100 | elapsed:    0.1s finished\n"
          ]
        }
      ]
    },
    {
      "cell_type": "markdown",
      "source": [
        "Gradient Boosting"
      ],
      "metadata": {
        "id": "IiqLIv9IJQv6"
      }
    },
    {
      "cell_type": "code",
      "source": [
        "# from sklearn.ensemble import GradientBoostingClassifier\n",
        "# gbc = GradientBoostingClassifier(n_estimators=100, learning_rate=1.0, max_depth=1, random_state=0)\n",
        "# gbc = gbc.fit(X1, Y1)\n",
        "# predicted = gbc.predict(X2)\n",
        "\n",
        "# gbc_acc = accuracy_score(predicted, Y2)\n",
        "# print('accuracy_score', accuracy_score(predicted, Y2))\n",
        "\n",
        "# model_results[\"Gradient Boosting\"] = gbc_acc"
      ],
      "metadata": {
        "id": "D_SVoSzKJbRs"
      },
      "execution_count": 327,
      "outputs": []
    },
    {
      "cell_type": "markdown",
      "source": [
        "AdaBoost"
      ],
      "metadata": {
        "id": "y5H0RgdvJ-kl"
      }
    },
    {
      "cell_type": "code",
      "source": [
        "# from sklearn.ensemble import AdaBoostClassifier\n",
        "# abc = AdaBoostClassifier(n_estimators=100, random_state=0)\n",
        "# abc = abc.fit(X1, Y1)\n",
        "# predicted = abc.predict(X2)\n",
        "\n",
        "# abc_acc = accuracy_score(predicted, Y2)\n",
        "# print('accuracy_score', accuracy_score(predicted, Y2))\n",
        "\n",
        "# model_results[\"AdaBoost\"] = abc_acc"
      ],
      "metadata": {
        "id": "HSq9EUN4KF3c"
      },
      "execution_count": 328,
      "outputs": []
    },
    {
      "cell_type": "markdown",
      "source": [
        "Model Results"
      ],
      "metadata": {
        "id": "2P89_f5FCx2e"
      }
    },
    {
      "cell_type": "code",
      "source": [
        "import pandas as pd\n",
        "model_results_df = pd.DataFrame(model_results.items(), columns=[\"Model\",\"ACC\"]).sort_values(\"ACC\")\n",
        "model_results_df"
      ],
      "metadata": {
        "colab": {
          "base_uri": "https://localhost:8080/",
          "height": 269
        },
        "id": "2bBllHfiCz5E",
        "outputId": "429c93b0-c3a5-4959-86c6-15f4ef5e1d92"
      },
      "execution_count": 329,
      "outputs": [
        {
          "output_type": "execute_result",
          "data": {
            "text/plain": [
              "                 Model       ACC\n",
              "0             BASELINE  0.462000\n",
              "5        Decision Tree  0.476115\n",
              "6        Random Forest  0.479299\n",
              "1  Logistic Regression  0.500000\n",
              "2            LinearSVC  0.501592\n",
              "4  K-Nearest Neighbors  0.504777\n",
              "3                  SVC  0.530255"
            ],
            "text/html": [
              "\n",
              "  <div id=\"df-05e739f5-bc5d-486c-8188-bf84cf0d5bbb\">\n",
              "    <div class=\"colab-df-container\">\n",
              "      <div>\n",
              "<style scoped>\n",
              "    .dataframe tbody tr th:only-of-type {\n",
              "        vertical-align: middle;\n",
              "    }\n",
              "\n",
              "    .dataframe tbody tr th {\n",
              "        vertical-align: top;\n",
              "    }\n",
              "\n",
              "    .dataframe thead th {\n",
              "        text-align: right;\n",
              "    }\n",
              "</style>\n",
              "<table border=\"1\" class=\"dataframe\">\n",
              "  <thead>\n",
              "    <tr style=\"text-align: right;\">\n",
              "      <th></th>\n",
              "      <th>Model</th>\n",
              "      <th>ACC</th>\n",
              "    </tr>\n",
              "  </thead>\n",
              "  <tbody>\n",
              "    <tr>\n",
              "      <th>0</th>\n",
              "      <td>BASELINE</td>\n",
              "      <td>0.462000</td>\n",
              "    </tr>\n",
              "    <tr>\n",
              "      <th>5</th>\n",
              "      <td>Decision Tree</td>\n",
              "      <td>0.476115</td>\n",
              "    </tr>\n",
              "    <tr>\n",
              "      <th>6</th>\n",
              "      <td>Random Forest</td>\n",
              "      <td>0.479299</td>\n",
              "    </tr>\n",
              "    <tr>\n",
              "      <th>1</th>\n",
              "      <td>Logistic Regression</td>\n",
              "      <td>0.500000</td>\n",
              "    </tr>\n",
              "    <tr>\n",
              "      <th>2</th>\n",
              "      <td>LinearSVC</td>\n",
              "      <td>0.501592</td>\n",
              "    </tr>\n",
              "    <tr>\n",
              "      <th>4</th>\n",
              "      <td>K-Nearest Neighbors</td>\n",
              "      <td>0.504777</td>\n",
              "    </tr>\n",
              "    <tr>\n",
              "      <th>3</th>\n",
              "      <td>SVC</td>\n",
              "      <td>0.530255</td>\n",
              "    </tr>\n",
              "  </tbody>\n",
              "</table>\n",
              "</div>\n",
              "      <button class=\"colab-df-convert\" onclick=\"convertToInteractive('df-05e739f5-bc5d-486c-8188-bf84cf0d5bbb')\"\n",
              "              title=\"Convert this dataframe to an interactive table.\"\n",
              "              style=\"display:none;\">\n",
              "        \n",
              "  <svg xmlns=\"http://www.w3.org/2000/svg\" height=\"24px\"viewBox=\"0 0 24 24\"\n",
              "       width=\"24px\">\n",
              "    <path d=\"M0 0h24v24H0V0z\" fill=\"none\"/>\n",
              "    <path d=\"M18.56 5.44l.94 2.06.94-2.06 2.06-.94-2.06-.94-.94-2.06-.94 2.06-2.06.94zm-11 1L8.5 8.5l.94-2.06 2.06-.94-2.06-.94L8.5 2.5l-.94 2.06-2.06.94zm10 10l.94 2.06.94-2.06 2.06-.94-2.06-.94-.94-2.06-.94 2.06-2.06.94z\"/><path d=\"M17.41 7.96l-1.37-1.37c-.4-.4-.92-.59-1.43-.59-.52 0-1.04.2-1.43.59L10.3 9.45l-7.72 7.72c-.78.78-.78 2.05 0 2.83L4 21.41c.39.39.9.59 1.41.59.51 0 1.02-.2 1.41-.59l7.78-7.78 2.81-2.81c.8-.78.8-2.07 0-2.86zM5.41 20L4 18.59l7.72-7.72 1.47 1.35L5.41 20z\"/>\n",
              "  </svg>\n",
              "      </button>\n",
              "      \n",
              "  <style>\n",
              "    .colab-df-container {\n",
              "      display:flex;\n",
              "      flex-wrap:wrap;\n",
              "      gap: 12px;\n",
              "    }\n",
              "\n",
              "    .colab-df-convert {\n",
              "      background-color: #E8F0FE;\n",
              "      border: none;\n",
              "      border-radius: 50%;\n",
              "      cursor: pointer;\n",
              "      display: none;\n",
              "      fill: #1967D2;\n",
              "      height: 32px;\n",
              "      padding: 0 0 0 0;\n",
              "      width: 32px;\n",
              "    }\n",
              "\n",
              "    .colab-df-convert:hover {\n",
              "      background-color: #E2EBFA;\n",
              "      box-shadow: 0px 1px 2px rgba(60, 64, 67, 0.3), 0px 1px 3px 1px rgba(60, 64, 67, 0.15);\n",
              "      fill: #174EA6;\n",
              "    }\n",
              "\n",
              "    [theme=dark] .colab-df-convert {\n",
              "      background-color: #3B4455;\n",
              "      fill: #D2E3FC;\n",
              "    }\n",
              "\n",
              "    [theme=dark] .colab-df-convert:hover {\n",
              "      background-color: #434B5C;\n",
              "      box-shadow: 0px 1px 3px 1px rgba(0, 0, 0, 0.15);\n",
              "      filter: drop-shadow(0px 1px 2px rgba(0, 0, 0, 0.3));\n",
              "      fill: #FFFFFF;\n",
              "    }\n",
              "  </style>\n",
              "\n",
              "      <script>\n",
              "        const buttonEl =\n",
              "          document.querySelector('#df-05e739f5-bc5d-486c-8188-bf84cf0d5bbb button.colab-df-convert');\n",
              "        buttonEl.style.display =\n",
              "          google.colab.kernel.accessAllowed ? 'block' : 'none';\n",
              "\n",
              "        async function convertToInteractive(key) {\n",
              "          const element = document.querySelector('#df-05e739f5-bc5d-486c-8188-bf84cf0d5bbb');\n",
              "          const dataTable =\n",
              "            await google.colab.kernel.invokeFunction('convertToInteractive',\n",
              "                                                     [key], {});\n",
              "          if (!dataTable) return;\n",
              "\n",
              "          const docLinkHtml = 'Like what you see? Visit the ' +\n",
              "            '<a target=\"_blank\" href=https://colab.research.google.com/notebooks/data_table.ipynb>data table notebook</a>'\n",
              "            + ' to learn more about interactive tables.';\n",
              "          element.innerHTML = '';\n",
              "          dataTable['output_type'] = 'display_data';\n",
              "          await google.colab.output.renderOutput(dataTable, element);\n",
              "          const docLink = document.createElement('div');\n",
              "          docLink.innerHTML = docLinkHtml;\n",
              "          element.appendChild(docLink);\n",
              "        }\n",
              "      </script>\n",
              "    </div>\n",
              "  </div>\n",
              "  "
            ]
          },
          "metadata": {},
          "execution_count": 329
        }
      ]
    },
    {
      "cell_type": "markdown",
      "source": [
        "Visualization"
      ],
      "metadata": {
        "id": "hNTI0eUtDHL9"
      }
    },
    {
      "cell_type": "code",
      "source": [
        "import matplotlib.pyplot as plt\n",
        "import seaborn as sns\n",
        "\n",
        "ax = sns.barplot(x=\"Model\", y=\"ACC\", data=model_results_df)\n",
        "plt.setp(ax.get_xticklabels(), rotation=90);\n",
        "plt.ylim(.1,.66);\n",
        "ax.xaxis.set_tick_params(labelsize=14)\n",
        "ax.yaxis.set_tick_params(labelsize=14)\n",
        "ax.set_xlabel('');\n",
        "ax.set_ylabel('ACC', fontsize=15);\n",
        "ax.set_title(\"ACC for Different Models\", fontsize=16);"
      ],
      "metadata": {
        "colab": {
          "base_uri": "https://localhost:8080/",
          "height": 416
        },
        "id": "NImjvd0ADJsN",
        "outputId": "0b756069-3fad-411b-ba24-fdeee47961a2"
      },
      "execution_count": 245,
      "outputs": [
        {
          "output_type": "display_data",
          "data": {
            "text/plain": [
              "<Figure size 432x288 with 1 Axes>"
            ],
            "image/png": "[encoded data removed]"
          },
          "metadata": {
            "needs_background": "light"
          }
        }
      ]
    },
    {
      "cell_type": "markdown",
      "source": [
        "Acknowledgement: https://github.com/ilovrencic/SemEval2019-Hyperpartisan-News-Detection"
      ],
      "metadata": {
        "id": "biOeYIKzvUSF"
      }
    },
    {
      "cell_type": "markdown",
      "source": [
        "TODO: Hyperparameter Tuning"
      ],
      "metadata": {
        "id": "xSMBpmlwHjP8"
      }
    },
    {
      "cell_type": "markdown",
      "source": [
        "##DL Approach "
      ],
      "metadata": {
        "id": "JW2E5uasyJRr"
      }
    },
    {
      "cell_type": "code",
      "source": [
        "!pip install bleach"
      ],
      "metadata": {
        "colab": {
          "base_uri": "https://localhost:8080/"
        },
        "id": "K1HwFkFxLZ02",
        "outputId": "6ab4ea5e-745c-48ed-9053-12a8b945b91c"
      },
      "execution_count": 246,
      "outputs": [
        {
          "output_type": "stream",
          "name": "stdout",
          "text": [
            "Requirement already satisfied: bleach in /usr/local/lib/python3.7/dist-packages (5.0.0)\n",
            "Requirement already satisfied: six>=1.9.0 in /usr/local/lib/python3.7/dist-packages (from bleach) (1.15.0)\n",
            "Requirement already satisfied: webencodings in /usr/local/lib/python3.7/dist-packages (from bleach) (0.5.1)\n"
          ]
        }
      ]
    },
    {
      "cell_type": "code",
      "source": [
        "!pip install beautifulsoup4"
      ],
      "metadata": {
        "colab": {
          "base_uri": "https://localhost:8080/"
        },
        "id": "qH9dyqJXLa_d",
        "outputId": "2b008394-8a75-4c3f-dfe1-2af6c8824007"
      },
      "execution_count": 247,
      "outputs": [
        {
          "output_type": "stream",
          "name": "stdout",
          "text": [
            "Requirement already satisfied: beautifulsoup4 in /usr/local/lib/python3.7/dist-packages (4.6.3)\n"
          ]
        }
      ]
    },
    {
      "cell_type": "code",
      "source": [
        "!pip install datasets"
      ],
      "metadata": {
        "colab": {
          "base_uri": "https://localhost:8080/"
        },
        "id": "QKansCfRLdxz",
        "outputId": "6a40ef40-e8a8-47ff-eab1-de8dfeae2e57"
      },
      "execution_count": 248,
      "outputs": [
        {
          "output_type": "stream",
          "name": "stdout",
          "text": [
            "Requirement already satisfied: datasets in /usr/local/lib/python3.7/dist-packages (2.1.0)\n",
            "Requirement already satisfied: pandas in /usr/local/lib/python3.7/dist-packages (from datasets) (1.3.5)\n",
            "Requirement already satisfied: requests>=2.19.0 in /usr/local/lib/python3.7/dist-packages (from datasets) (2.23.0)\n",
            "Requirement already satisfied: aiohttp in /usr/local/lib/python3.7/dist-packages (from datasets) (3.8.1)\n",
            "Requirement already satisfied: multiprocess in /usr/local/lib/python3.7/dist-packages (from datasets) (0.70.12.2)\n",
            "Requirement already satisfied: responses<0.19 in /usr/local/lib/python3.7/dist-packages (from datasets) (0.18.0)\n",
            "Requirement already satisfied: pyarrow>=5.0.0 in /usr/local/lib/python3.7/dist-packages (from datasets) (6.0.1)\n",
            "Requirement already satisfied: tqdm>=4.62.1 in /usr/local/lib/python3.7/dist-packages (from datasets) (4.64.0)\n",
            "Requirement already satisfied: xxhash in /usr/local/lib/python3.7/dist-packages (from datasets) (3.0.0)\n",
            "Requirement already satisfied: packaging in /usr/local/lib/python3.7/dist-packages (from datasets) (21.3)\n",
            "Requirement already satisfied: numpy>=1.17 in /usr/local/lib/python3.7/dist-packages (from datasets) (1.21.5)\n",
            "Requirement already satisfied: importlib-metadata in /usr/local/lib/python3.7/dist-packages (from datasets) (4.11.3)\n",
            "Requirement already satisfied: dill in /usr/local/lib/python3.7/dist-packages (from datasets) (0.3.4)\n",
            "Requirement already satisfied: fsspec[http]>=2021.05.0 in /usr/local/lib/python3.7/dist-packages (from datasets) (2022.3.0)\n",
            "Requirement already satisfied: huggingface-hub<1.0.0,>=0.1.0 in /usr/local/lib/python3.7/dist-packages (from datasets) (0.5.1)\n",
            "Requirement already satisfied: typing-extensions>=3.7.4.3 in /usr/local/lib/python3.7/dist-packages (from huggingface-hub<1.0.0,>=0.1.0->datasets) (4.0.0)\n",
            "Requirement already satisfied: pyyaml in /usr/local/lib/python3.7/dist-packages (from huggingface-hub<1.0.0,>=0.1.0->datasets) (6.0)\n",
            "Requirement already satisfied: filelock in /usr/local/lib/python3.7/dist-packages (from huggingface-hub<1.0.0,>=0.1.0->datasets) (3.6.0)\n",
            "Requirement already satisfied: pyparsing!=3.0.5,>=2.0.2 in /usr/local/lib/python3.7/dist-packages (from packaging->datasets) (3.0.8)\n",
            "Requirement already satisfied: chardet<4,>=3.0.2 in /usr/local/lib/python3.7/dist-packages (from requests>=2.19.0->datasets) (3.0.4)\n",
            "Requirement already satisfied: urllib3!=1.25.0,!=1.25.1,<1.26,>=1.21.1 in /usr/local/lib/python3.7/dist-packages (from requests>=2.19.0->datasets) (1.25.11)\n",
            "Requirement already satisfied: idna<3,>=2.5 in /usr/local/lib/python3.7/dist-packages (from requests>=2.19.0->datasets) (2.10)\n",
            "Requirement already satisfied: certifi>=2017.4.17 in /usr/local/lib/python3.7/dist-packages (from requests>=2.19.0->datasets) (2021.10.8)\n",
            "Requirement already satisfied: async-timeout<5.0,>=4.0.0a3 in /usr/local/lib/python3.7/dist-packages (from aiohttp->datasets) (4.0.2)\n",
            "Requirement already satisfied: charset-normalizer<3.0,>=2.0 in /usr/local/lib/python3.7/dist-packages (from aiohttp->datasets) (2.0.12)\n",
            "Requirement already satisfied: aiosignal>=1.1.2 in /usr/local/lib/python3.7/dist-packages (from aiohttp->datasets) (1.2.0)\n",
            "Requirement already satisfied: asynctest==0.13.0 in /usr/local/lib/python3.7/dist-packages (from aiohttp->datasets) (0.13.0)\n",
            "Requirement already satisfied: frozenlist>=1.1.1 in /usr/local/lib/python3.7/dist-packages (from aiohttp->datasets) (1.3.0)\n",
            "Requirement already satisfied: yarl<2.0,>=1.0 in /usr/local/lib/python3.7/dist-packages (from aiohttp->datasets) (1.7.2)\n",
            "Requirement already satisfied: attrs>=17.3.0 in /usr/local/lib/python3.7/dist-packages (from aiohttp->datasets) (21.4.0)\n",
            "Requirement already satisfied: multidict<7.0,>=4.5 in /usr/local/lib/python3.7/dist-packages (from aiohttp->datasets) (6.0.2)\n",
            "Requirement already satisfied: zipp>=0.5 in /usr/local/lib/python3.7/dist-packages (from importlib-metadata->datasets) (3.8.0)\n",
            "Requirement already satisfied: python-dateutil>=2.7.3 in /usr/local/lib/python3.7/dist-packages (from pandas->datasets) (2.8.2)\n",
            "Requirement already satisfied: pytz>=2017.3 in /usr/local/lib/python3.7/dist-packages (from pandas->datasets) (2018.9)\n",
            "Requirement already satisfied: six>=1.5 in /usr/local/lib/python3.7/dist-packages (from python-dateutil>=2.7.3->pandas->datasets) (1.15.0)\n"
          ]
        }
      ]
    },
    {
      "cell_type": "code",
      "source": [
        "!pip install transformers==4.2.1"
      ],
      "metadata": {
        "colab": {
          "base_uri": "https://localhost:8080/"
        },
        "id": "CGDxUbWULjAN",
        "outputId": "d1e3f5a8-4161-4d39-9acc-53f0809b8ed4"
      },
      "execution_count": 249,
      "outputs": [
        {
          "output_type": "stream",
          "name": "stdout",
          "text": [
            "Requirement already satisfied: transformers==4.2.1 in /usr/local/lib/python3.7/dist-packages (4.2.1)\n",
            "Requirement already satisfied: packaging in /usr/local/lib/python3.7/dist-packages (from transformers==4.2.1) (21.3)\n",
            "Requirement already satisfied: importlib-metadata in /usr/local/lib/python3.7/dist-packages (from transformers==4.2.1) (4.11.3)\n",
            "Requirement already satisfied: filelock in /usr/local/lib/python3.7/dist-packages (from transformers==4.2.1) (3.6.0)\n",
            "Requirement already satisfied: numpy in /usr/local/lib/python3.7/dist-packages (from transformers==4.2.1) (1.21.5)\n",
            "Requirement already satisfied: sacremoses in /usr/local/lib/python3.7/dist-packages (from transformers==4.2.1) (0.0.49)\n",
            "Requirement already satisfied: tokenizers==0.9.4 in /usr/local/lib/python3.7/dist-packages (from transformers==4.2.1) (0.9.4)\n",
            "Requirement already satisfied: tqdm>=4.27 in /usr/local/lib/python3.7/dist-packages (from transformers==4.2.1) (4.64.0)\n",
            "Requirement already satisfied: requests in /usr/local/lib/python3.7/dist-packages (from transformers==4.2.1) (2.23.0)\n",
            "Requirement already satisfied: regex!=2019.12.17 in /usr/local/lib/python3.7/dist-packages (from transformers==4.2.1) (2019.12.20)\n",
            "Requirement already satisfied: zipp>=0.5 in /usr/local/lib/python3.7/dist-packages (from importlib-metadata->transformers==4.2.1) (3.8.0)\n",
            "Requirement already satisfied: typing-extensions>=3.6.4 in /usr/local/lib/python3.7/dist-packages (from importlib-metadata->transformers==4.2.1) (4.0.0)\n",
            "Requirement already satisfied: pyparsing!=3.0.5,>=2.0.2 in /usr/local/lib/python3.7/dist-packages (from packaging->transformers==4.2.1) (3.0.8)\n",
            "Requirement already satisfied: chardet<4,>=3.0.2 in /usr/local/lib/python3.7/dist-packages (from requests->transformers==4.2.1) (3.0.4)\n",
            "Requirement already satisfied: idna<3,>=2.5 in /usr/local/lib/python3.7/dist-packages (from requests->transformers==4.2.1) (2.10)\n",
            "Requirement already satisfied: certifi>=2017.4.17 in /usr/local/lib/python3.7/dist-packages (from requests->transformers==4.2.1) (2021.10.8)\n",
            "Requirement already satisfied: urllib3!=1.25.0,!=1.25.1,<1.26,>=1.21.1 in /usr/local/lib/python3.7/dist-packages (from requests->transformers==4.2.1) (1.25.11)\n",
            "Requirement already satisfied: joblib in /usr/local/lib/python3.7/dist-packages (from sacremoses->transformers==4.2.1) (1.1.0)\n",
            "Requirement already satisfied: six in /usr/local/lib/python3.7/dist-packages (from sacremoses->transformers==4.2.1) (1.15.0)\n",
            "Requirement already satisfied: click in /usr/local/lib/python3.7/dist-packages (from sacremoses->transformers==4.2.1) (7.1.2)\n"
          ]
        }
      ]
    },
    {
      "cell_type": "code",
      "source": [
        "!pip install pytorch-lightning"
      ],
      "metadata": {
        "colab": {
          "base_uri": "https://localhost:8080/"
        },
        "id": "RUxpDzMrLmWB",
        "outputId": "0f776ccd-b652-467e-ae75-3e6d829bffc2"
      },
      "execution_count": 250,
      "outputs": [
        {
          "output_type": "stream",
          "name": "stdout",
          "text": [
            "Requirement already satisfied: pytorch-lightning in /usr/local/lib/python3.7/dist-packages (1.6.1)\n",
            "Requirement already satisfied: pyDeprecate<0.4.0,>=0.3.1 in /usr/local/lib/python3.7/dist-packages (from pytorch-lightning) (0.3.2)\n",
            "Requirement already satisfied: torch>=1.8.* in /usr/local/lib/python3.7/dist-packages (from pytorch-lightning) (1.10.0+cu111)\n",
            "Requirement already satisfied: typing-extensions>=4.0.0 in /usr/local/lib/python3.7/dist-packages (from pytorch-lightning) (4.0.0)\n",
            "Requirement already satisfied: packaging>=17.0 in /usr/local/lib/python3.7/dist-packages (from pytorch-lightning) (21.3)\n",
            "Requirement already satisfied: PyYAML>=5.4 in /usr/local/lib/python3.7/dist-packages (from pytorch-lightning) (6.0)\n",
            "Requirement already satisfied: numpy>=1.17.2 in /usr/local/lib/python3.7/dist-packages (from pytorch-lightning) (1.21.5)\n",
            "Requirement already satisfied: torchmetrics>=0.4.1 in /usr/local/lib/python3.7/dist-packages (from pytorch-lightning) (0.8.0)\n",
            "Requirement already satisfied: fsspec[http]!=2021.06.0,>=2021.05.0 in /usr/local/lib/python3.7/dist-packages (from pytorch-lightning) (2022.3.0)\n",
            "Requirement already satisfied: tensorboard>=2.2.0 in /usr/local/lib/python3.7/dist-packages (from pytorch-lightning) (2.8.0)\n",
            "Requirement already satisfied: tqdm>=4.41.0 in /usr/local/lib/python3.7/dist-packages (from pytorch-lightning) (4.64.0)\n",
            "Requirement already satisfied: requests in /usr/local/lib/python3.7/dist-packages (from fsspec[http]!=2021.06.0,>=2021.05.0->pytorch-lightning) (2.23.0)\n",
            "Requirement already satisfied: aiohttp in /usr/local/lib/python3.7/dist-packages (from fsspec[http]!=2021.06.0,>=2021.05.0->pytorch-lightning) (3.8.1)\n",
            "Requirement already satisfied: pyparsing!=3.0.5,>=2.0.2 in /usr/local/lib/python3.7/dist-packages (from packaging>=17.0->pytorch-lightning) (3.0.8)\n",
            "Requirement already satisfied: absl-py>=0.4 in /usr/local/lib/python3.7/dist-packages (from tensorboard>=2.2.0->pytorch-lightning) (1.0.0)\n",
            "Requirement already satisfied: wheel>=0.26 in /usr/local/lib/python3.7/dist-packages (from tensorboard>=2.2.0->pytorch-lightning) (0.37.1)\n",
            "Requirement already satisfied: grpcio>=1.24.3 in /usr/local/lib/python3.7/dist-packages (from tensorboard>=2.2.0->pytorch-lightning) (1.44.0)\n",
            "Requirement already satisfied: protobuf>=3.6.0 in /usr/local/lib/python3.7/dist-packages (from tensorboard>=2.2.0->pytorch-lightning) (3.17.3)\n",
            "Requirement already satisfied: google-auth<3,>=1.6.3 in /usr/local/lib/python3.7/dist-packages (from tensorboard>=2.2.0->pytorch-lightning) (1.35.0)\n",
            "Requirement already satisfied: tensorboard-data-server<0.7.0,>=0.6.0 in /usr/local/lib/python3.7/dist-packages (from tensorboard>=2.2.0->pytorch-lightning) (0.6.1)\n",
            "Requirement already satisfied: setuptools>=41.0.0 in /usr/local/lib/python3.7/dist-packages (from tensorboard>=2.2.0->pytorch-lightning) (57.4.0)\n",
            "Requirement already satisfied: werkzeug>=0.11.15 in /usr/local/lib/python3.7/dist-packages (from tensorboard>=2.2.0->pytorch-lightning) (1.0.1)\n",
            "Requirement already satisfied: markdown>=2.6.8 in /usr/local/lib/python3.7/dist-packages (from tensorboard>=2.2.0->pytorch-lightning) (3.3.6)\n",
            "Requirement already satisfied: tensorboard-plugin-wit>=1.6.0 in /usr/local/lib/python3.7/dist-packages (from tensorboard>=2.2.0->pytorch-lightning) (1.8.1)\n",
            "Requirement already satisfied: google-auth-oauthlib<0.5,>=0.4.1 in /usr/local/lib/python3.7/dist-packages (from tensorboard>=2.2.0->pytorch-lightning) (0.4.6)\n",
            "Requirement already satisfied: six in /usr/local/lib/python3.7/dist-packages (from absl-py>=0.4->tensorboard>=2.2.0->pytorch-lightning) (1.15.0)\n",
            "Requirement already satisfied: pyasn1-modules>=0.2.1 in /usr/local/lib/python3.7/dist-packages (from google-auth<3,>=1.6.3->tensorboard>=2.2.0->pytorch-lightning) (0.2.8)\n",
            "Requirement already satisfied: cachetools<5.0,>=2.0.0 in /usr/local/lib/python3.7/dist-packages (from google-auth<3,>=1.6.3->tensorboard>=2.2.0->pytorch-lightning) (4.2.4)\n",
            "Requirement already satisfied: rsa<5,>=3.1.4 in /usr/local/lib/python3.7/dist-packages (from google-auth<3,>=1.6.3->tensorboard>=2.2.0->pytorch-lightning) (4.8)\n",
            "Requirement already satisfied: requests-oauthlib>=0.7.0 in /usr/local/lib/python3.7/dist-packages (from google-auth-oauthlib<0.5,>=0.4.1->tensorboard>=2.2.0->pytorch-lightning) (1.3.1)\n",
            "Requirement already satisfied: importlib-metadata>=4.4 in /usr/local/lib/python3.7/dist-packages (from markdown>=2.6.8->tensorboard>=2.2.0->pytorch-lightning) (4.11.3)\n",
            "Requirement already satisfied: zipp>=0.5 in /usr/local/lib/python3.7/dist-packages (from importlib-metadata>=4.4->markdown>=2.6.8->tensorboard>=2.2.0->pytorch-lightning) (3.8.0)\n",
            "Requirement already satisfied: pyasn1<0.5.0,>=0.4.6 in /usr/local/lib/python3.7/dist-packages (from pyasn1-modules>=0.2.1->google-auth<3,>=1.6.3->tensorboard>=2.2.0->pytorch-lightning) (0.4.8)\n",
            "Requirement already satisfied: certifi>=2017.4.17 in /usr/local/lib/python3.7/dist-packages (from requests->fsspec[http]!=2021.06.0,>=2021.05.0->pytorch-lightning) (2021.10.8)\n",
            "Requirement already satisfied: idna<3,>=2.5 in /usr/local/lib/python3.7/dist-packages (from requests->fsspec[http]!=2021.06.0,>=2021.05.0->pytorch-lightning) (2.10)\n",
            "Requirement already satisfied: urllib3!=1.25.0,!=1.25.1,<1.26,>=1.21.1 in /usr/local/lib/python3.7/dist-packages (from requests->fsspec[http]!=2021.06.0,>=2021.05.0->pytorch-lightning) (1.25.11)\n",
            "Requirement already satisfied: chardet<4,>=3.0.2 in /usr/local/lib/python3.7/dist-packages (from requests->fsspec[http]!=2021.06.0,>=2021.05.0->pytorch-lightning) (3.0.4)\n",
            "Requirement already satisfied: oauthlib>=3.0.0 in /usr/local/lib/python3.7/dist-packages (from requests-oauthlib>=0.7.0->google-auth-oauthlib<0.5,>=0.4.1->tensorboard>=2.2.0->pytorch-lightning) (3.2.0)\n",
            "Requirement already satisfied: multidict<7.0,>=4.5 in /usr/local/lib/python3.7/dist-packages (from aiohttp->fsspec[http]!=2021.06.0,>=2021.05.0->pytorch-lightning) (6.0.2)\n",
            "Requirement already satisfied: frozenlist>=1.1.1 in /usr/local/lib/python3.7/dist-packages (from aiohttp->fsspec[http]!=2021.06.0,>=2021.05.0->pytorch-lightning) (1.3.0)\n",
            "Requirement already satisfied: attrs>=17.3.0 in /usr/local/lib/python3.7/dist-packages (from aiohttp->fsspec[http]!=2021.06.0,>=2021.05.0->pytorch-lightning) (21.4.0)\n",
            "Requirement already satisfied: asynctest==0.13.0 in /usr/local/lib/python3.7/dist-packages (from aiohttp->fsspec[http]!=2021.06.0,>=2021.05.0->pytorch-lightning) (0.13.0)\n",
            "Requirement already satisfied: charset-normalizer<3.0,>=2.0 in /usr/local/lib/python3.7/dist-packages (from aiohttp->fsspec[http]!=2021.06.0,>=2021.05.0->pytorch-lightning) (2.0.12)\n",
            "Requirement already satisfied: yarl<2.0,>=1.0 in /usr/local/lib/python3.7/dist-packages (from aiohttp->fsspec[http]!=2021.06.0,>=2021.05.0->pytorch-lightning) (1.7.2)\n",
            "Requirement already satisfied: aiosignal>=1.1.2 in /usr/local/lib/python3.7/dist-packages (from aiohttp->fsspec[http]!=2021.06.0,>=2021.05.0->pytorch-lightning) (1.2.0)\n",
            "Requirement already satisfied: async-timeout<5.0,>=4.0.0a3 in /usr/local/lib/python3.7/dist-packages (from aiohttp->fsspec[http]!=2021.06.0,>=2021.05.0->pytorch-lightning) (4.0.2)\n"
          ]
        }
      ]
    },
    {
      "cell_type": "code",
      "source": [
        "!pip install typing-extensions==4.0.0"
      ],
      "metadata": {
        "colab": {
          "base_uri": "https://localhost:8080/"
        },
        "id": "7GHEIb2MLnpT",
        "outputId": "a5d85278-8259-4327-c9c8-b744195b15fa"
      },
      "execution_count": 251,
      "outputs": [
        {
          "output_type": "stream",
          "name": "stdout",
          "text": [
            "Requirement already satisfied: typing-extensions==4.0.0 in /usr/local/lib/python3.7/dist-packages (4.0.0)\n"
          ]
        }
      ]
    },
    {
      "cell_type": "code",
      "source": [
        "!pip install tf-estimator-nightly==2.8.0.dev2021122109"
      ],
      "metadata": {
        "colab": {
          "base_uri": "https://localhost:8080/"
        },
        "id": "gp9ZlFuzLwEJ",
        "outputId": "5a442759-4c07-48a2-8769-3986d419a542"
      },
      "execution_count": 252,
      "outputs": [
        {
          "output_type": "stream",
          "name": "stdout",
          "text": [
            "Requirement already satisfied: tf-estimator-nightly==2.8.0.dev2021122109 in /usr/local/lib/python3.7/dist-packages (2.8.0.dev2021122109)\n"
          ]
        }
      ]
    },
    {
      "cell_type": "code",
      "source": [
        "!pip install folium==0.2.1"
      ],
      "metadata": {
        "colab": {
          "base_uri": "https://localhost:8080/"
        },
        "id": "PifQBcC6LwyV",
        "outputId": "6fd831d0-f012-4d83-e55e-3ca693ac0125"
      },
      "execution_count": 253,
      "outputs": [
        {
          "output_type": "stream",
          "name": "stdout",
          "text": [
            "Requirement already satisfied: folium==0.2.1 in /usr/local/lib/python3.7/dist-packages (0.2.1)\n",
            "Requirement already satisfied: Jinja2 in /usr/local/lib/python3.7/dist-packages (from folium==0.2.1) (2.11.3)\n",
            "Requirement already satisfied: MarkupSafe>=0.23 in /usr/local/lib/python3.7/dist-packages (from Jinja2->folium==0.2.1) (2.0.1)\n"
          ]
        }
      ]
    },
    {
      "cell_type": "code",
      "source": [
        "import datasets\n",
        "from datasets import list_datasets, load_dataset, list_metrics, load_metric\n",
        "datasets_list = list_datasets()\n",
        "import torch\n",
        "import re\n",
        "import bleach\n",
        "from bs4 import BeautifulSoup"
      ],
      "metadata": {
        "id": "Gdixg7nIL3WN"
      },
      "execution_count": 254,
      "outputs": []
    },
    {
      "cell_type": "code",
      "source": [
        "dataset  = datasets.load_dataset('hyperpartisan_news_detection', 'bypublisher')"
      ],
      "metadata": {
        "colab": {
          "base_uri": "https://localhost:8080/",
          "height": 87,
          "referenced_widgets": [
            "258be473e6474fbba46109a288e0586d",
            "bda11c7d722d4417991f9dcfc083e4bc",
            "4e07112f48bb4b11a2f17fd5f3590b39",
            "43b58fe3b5ea43208611ac4519d81ffb",
            "181009001e364e56843d4e3ecdff4129",
            "85c17218bb0f4f42b8e0bc7e7505bdcc",
            "0b84a94b393144eab0495efbe3ed6a2d",
            "8445f41494b64f139f7f5032a801b587",
            "373b37c69d59470eaf73d9de559c153c",
            "936c82af373c4b1f9d8a8e2140fd9f2c",
            "0109366fcd9544838498fbcfb0331cd3"
          ]
        },
        "id": "gIS5geShL6BN",
        "outputId": "97ac52bd-8f69-4563-d0e6-0ee18978c9c1"
      },
      "execution_count": 255,
      "outputs": [
        {
          "output_type": "stream",
          "name": "stderr",
          "text": [
            "Reusing dataset hyperpartisan_news_detection (/root/.cache/huggingface/datasets/hyperpartisan_news_detection/bypublisher/1.0.0/7f4215b0474950ddf516e806400ab81d098b3da3b3a919a13cd1a4cf2c677012)\n"
          ]
        },
        {
          "output_type": "display_data",
          "data": {
            "text/plain": [
              "  0%|          | 0/2 [00:00<?, ?it/s]"
            ],
            "application/vnd.jupyter.widget-view+json": {
              "version_major": 2,
              "version_minor": 0,
              "model_id": "258be473e6474fbba46109a288e0586d"
            }
          },
          "metadata": {}
        }
      ]
    },
    {
      "cell_type": "code",
      "source": [
        "print(dataset)"
      ],
      "metadata": {
        "colab": {
          "base_uri": "https://localhost:8080/"
        },
        "id": "D96iQ21-MBpK",
        "outputId": "c73a774f-d944-44fb-8052-1f1e1e28ca15"
      },
      "execution_count": 256,
      "outputs": [
        {
          "output_type": "stream",
          "name": "stdout",
          "text": [
            "DatasetDict({\n",
            "    train: Dataset({\n",
            "        features: ['text', 'title', 'hyperpartisan', 'url', 'published_at', 'bias'],\n",
            "        num_rows: 600000\n",
            "    })\n",
            "    validation: Dataset({\n",
            "        features: ['text', 'title', 'hyperpartisan', 'url', 'published_at', 'bias'],\n",
            "        num_rows: 600000\n",
            "    })\n",
            "})\n"
          ]
        }
      ]
    },
    {
      "cell_type": "markdown",
      "source": [
        "Details of the by-publisher dataset"
      ],
      "metadata": {
        "id": "JCL_u1fmMDGE"
      }
    },
    {
      "cell_type": "code",
      "source": [
        "print(\"Size of train dataset: \", dataset['train'].shape)"
      ],
      "metadata": {
        "colab": {
          "base_uri": "https://localhost:8080/"
        },
        "id": "onyKCXl4MFx_",
        "outputId": "392c3c57-718c-4105-b429-4d8fc2b19a59"
      },
      "execution_count": 257,
      "outputs": [
        {
          "output_type": "stream",
          "name": "stdout",
          "text": [
            "Size of train dataset:  (600000, 6)\n"
          ]
        }
      ]
    },
    {
      "cell_type": "code",
      "source": [
        "dataset['train']"
      ],
      "metadata": {
        "colab": {
          "base_uri": "https://localhost:8080/"
        },
        "id": "K8DiGdJMMrXl",
        "outputId": "290fc6d0-01f5-47fb-f911-b575116b279c"
      },
      "execution_count": 258,
      "outputs": [
        {
          "output_type": "execute_result",
          "data": {
            "text/plain": [
              "Dataset({\n",
              "    features: ['text', 'title', 'hyperpartisan', 'url', 'published_at', 'bias'],\n",
              "    num_rows: 600000\n",
              "})"
            ]
          },
          "metadata": {},
          "execution_count": 258
        }
      ]
    },
    {
      "cell_type": "code",
      "source": [
        "position = 1"
      ],
      "metadata": {
        "id": "HyjNeZETMu1W"
      },
      "execution_count": 259,
      "outputs": []
    },
    {
      "cell_type": "code",
      "source": [
        "print(\" Example of title: \", dataset['train'][position]['title'])\n",
        "print(\" Example of text: \", dataset['train'][position]['text'])\n",
        "print(\" Example of url: \", dataset['train'][position]['url'])\n",
        "print(\" Length of text: \", len(dataset['train'][position]['text'].split(\" \")))"
      ],
      "metadata": {
        "colab": {
          "base_uri": "https://localhost:8080/"
        },
        "id": "9gl2pT8-MxZz",
        "outputId": "247bbad3-090e-4b97-c622-d6cb553dd2ee"
      },
      "execution_count": 260,
      "outputs": [
        {
          "output_type": "stream",
          "name": "stdout",
          "text": [
            " Example of title:  University To Award Trayvon Martin With Posthumous Degree In Aviation\n",
            " Example of text:  <p>A Florida university will honor Trayvon Martin with a posthumous Bachelor of Science Degree in Aviation at a May 13 commencement ceremony. The degree will be accepted by his parents, Tracy Martin and Sabrina Fulton.</p> \n",
            "\n",
            "<p>Seventeen-year-old Martin was killed in February of 2012 by former neighborhood watch captain George Zimmerman, who is Hispanic, in self-defense. After a long, racially-charged public debate and court trial, Zimmerman was completely exonerated in July of 2013.</p> \n",
            "\n",
            "<p>Florida Memorial University officially <a href=\"https://www.facebook.com/FLMemorialUniv/\" type=\"external\">announced</a>the posthumous degree via Facebook on Wednesday.</p> \n",
            "\n",
            "<p>\"The University will confer upon TRAYVON MARTIN a posthumous degree in Aeronautical Science with a concentration in Flight Education, in honor of the steps he took during his young life toward becoming a pilot,\" says the Facebook post. \"This particular Bachelor&#8217;s degree is designated for those studying to be pilots. Martin&#8217;s parents, both social justice activists and co-founders of The Trayvon Martin Foundation ... will accept the degree on behalf of their son.\"</p> \n",
            "\n",
            "<p>&#8220;Of special significance is awarding posthumously the Bachelor of Science Degree in Aviation to Trayvon Martin. Sybrina, our alum, epitomizes strength and dignity as she uplifts other victims of violence while effecting change for a more equal and just society,\" said Florida Memorial University President Dr. Roslyn Clark Artis.</p> \n",
            "\n",
            "<p>Additionally, the school will host a post-commencement fundraiser which will partly support The Trayvon Martin Foundation.</p>\n",
            " Example of url:  https://dailywire.com/news/16103/university-award-trayvon-martin-posthumous-degree-amanda-prestigiacomo\n",
            " Length of text:  223\n"
          ]
        }
      ]
    },
    {
      "cell_type": "code",
      "source": [
        "print(\" Class of above text: \",  dataset['train'][position]['hyperpartisan'])"
      ],
      "metadata": {
        "colab": {
          "base_uri": "https://localhost:8080/"
        },
        "id": "K7__Oqq6M3BQ",
        "outputId": "b9029a4d-0b39-45d1-a7a1-bb2378c4b2ff"
      },
      "execution_count": 261,
      "outputs": [
        {
          "output_type": "stream",
          "name": "stdout",
          "text": [
            " Class of above text:  True\n"
          ]
        }
      ]
    },
    {
      "cell_type": "markdown",
      "source": [
        "Data Preprocessing"
      ],
      "metadata": {
        "id": "ytQdIeWJM_J-"
      }
    },
    {
      "cell_type": "code",
      "source": [
        "def clean_text(text, label):\n",
        "    \"\"\" Clean the input text and remove special characters \"\"\"\n",
        "#     soup = BeautifulSoup(text)\n",
        "    text = bleach.clean(text,strip=True)\n",
        "    text = text.replace('<p>', '')\n",
        "    text = text.replace('</p>', '')\n",
        "    text = text.replace('\\n', '')\n",
        "    text = text.replace('&amp;#160;', '')\n",
        "    text = re.sub(r'^https?:\\/\\/.*[\\r\\n]*', '', text, flags=re.MULTILINE)\n",
        "    if str(label) == 'True':\n",
        "        new_label = 1\n",
        "    else:\n",
        "        new_label = 0\n",
        "    return text, new_label\n",
        "\n",
        "\n",
        "def convert_to_features(example):\n",
        "    # Tokenize contexts and questions (as pairs of inputs)\n",
        "    text_, target_ = clean_text(example['text'], example['hyperpartisan'])\n",
        "    encodings = tokenizer.encode_plus(text_, pad_to_max_length=True, max_length=2048,\n",
        "                                           add_special_tokens=True,\n",
        "                                            return_token_type_ids=False,\n",
        "                                            return_attention_mask=True,\n",
        "                                            padding='max_length', truncation=True,\n",
        "                                            \n",
        "                                           )\n",
        "    targets = torch.tensor(target_,dtype=torch.long)\n",
        "    print(targets)\n",
        "\n",
        "    encodings.update({'targets': targets,\n",
        "                      'attention_mask': encodings['attention_mask']})\n",
        "    print(encodings)\n",
        "    return encodings"
      ],
      "metadata": {
        "id": "8ZVzmwapNCeK"
      },
      "execution_count": 262,
      "outputs": []
    },
    {
      "cell_type": "code",
      "source": [
        "from transformers import LongformerTokenizer\n",
        "tokenizer = LongformerTokenizer.from_pretrained('allenai/longformer-base-4096')\n",
        "\n",
        "# Remaining tasks: Longformer finetuning and evaluation"
      ],
      "metadata": {
        "id": "uLWKbTaaM34q"
      },
      "execution_count": 263,
      "outputs": []
    },
    {
      "cell_type": "markdown",
      "source": [
        "TODO: We have tried several approches using BERT or Longformer for the DL approach, main issue lies in formatting the input properly for the models, which will be further investigated. We expect Longformer or Big Bird to perform extremely well for this task as they are able to handle much longer sequences of text compared to BERT."
      ],
      "metadata": {
        "id": "W3Jz3UuC3rnC"
      }
    },
    {
      "cell_type": "markdown",
      "source": [
        "Resources found:\n",
        "\n",
        "1) Towards data science: https://towardsdatascience.com/train-a-longformer-for-detecting-hyperpartisan-news-content-7c141230784e\n",
        "\n",
        "2) Github: https://github.com/priya-dwivedi/Deep-Learning/blob/master/Longformer_HyperPartisan_news/Longformer_classifier_HyperPartisan_News.ipynb\n",
        "\n",
        "3) Longformer: https://github.com/allenai/longformer\n",
        "\n",
        "4) Longformer example: https://jesusleal.io/2020/11/24/Longformer-with-IMDB/"
      ],
      "metadata": {
        "id": "rG0bekcQyMgn"
      }
    },
    {
      "cell_type": "markdown",
      "source": [
        "Websites:\n",
        "\n",
        "1) Medium: https://jjpryor.medium.com/how-statistically-biased-is-our-news-f28f0fab3cb3\n",
        "\n",
        "2) Medium: https://medium.com/politically-speaking/dont-trust-these-news-sources-read-these-instead-8c4995f3cf87\n",
        "\n",
        "3) Business Insider: https://www.businessinsider.com/most-and-least-biased-news-outlets-in-america-2018-6"
      ],
      "metadata": {
        "id": "Sj5fWTma0OyT"
      }
    }
  ]
}